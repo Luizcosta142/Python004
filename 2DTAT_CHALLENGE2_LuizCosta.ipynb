{
  "nbformat": 4,
  "nbformat_minor": 0,
  "metadata": {
    "colab": {
      "provenance": [],
      "include_colab_link": true
    },
    "kernelspec": {
      "name": "python3",
      "display_name": "Python 3"
    },
    "language_info": {
      "name": "python"
    }
  },
  "cells": [
    {
      "cell_type": "markdown",
      "metadata": {
        "id": "view-in-github",
        "colab_type": "text"
      },
      "source": [
        "<a href=\"https://colab.research.google.com/github/Luizcosta142/fiap_challenges/blob/challenge_2/2DTAT_CHALLENGE2_LuizCosta.ipynb\" target=\"_parent\"><img src=\"https://colab.research.google.com/assets/colab-badge.svg\" alt=\"Open In Colab\"/></a>"
      ]
    },
    {
      "cell_type": "markdown",
      "source": [
        "# DATA CHALLENGE 2\n",
        "\n",
        "---\n",
        "\n",
        "Bem vindos ao segundo DATA CHALLENGE!\n",
        "\n",
        "Aqui traremos alguns problemas que envolvam python, dados, aprendizado de máquina e afins. O intuito é que vocês tentem ao máximo praticar com esses desafios que trarão por ventura, alguns tópicos interessantes."
      ],
      "metadata": {
        "id": "tXhCkW3fVFWM"
      }
    },
    {
      "cell_type": "markdown",
      "source": [
        "#CHALLENGE: Funções e Listas\n",
        "\n",
        "Peter é um jovem rapaz de 10 anos que adora comer doces. Ele costuma guardar esses doces variados em uma mochila.\n",
        "\n",
        "Podemos representar a mochila de Peter como uma lista da seguinte forma:\n",
        "\n",
        "`doces = [1,1,2,3,4,5,5,5] `\n",
        "\n",
        "Nesse caso, a mochila de Peter contém 8 doces, sendo 2 do tipo `1`, 1 do tipo `2`, 1 do tipo `3`, 1 do tipo `4` e 3 do tipo `5`.\n",
        "\n",
        "Segundo médico de Peter, ele deve reduzir seu consumo de doces pela metade. E como Peter é esperto, ele quer consumir a maior variedade de doces possível seguindo a orientação do Médico.\n",
        "\n",
        "Ex:\n",
        "\n",
        "- Se a mochila dele tiver 8 doces da seguinte forma : `doces = [1,1,2,3,4,5,5,5] ` - Peter consumirá no máximo 4 variedades.\n",
        "\n",
        "- Se a mochila dele tiver 4 doces da seguinte forma : `doces = [1,1,2,3]` - Peter consumirá no máximo 2 variedades.\n",
        "\n",
        "- Se a mochila dele tiver 8 doces da seguinte forma : `doces = [1,1,2,3,2,1,3,2]` - Peter consumirá no máximo 3 variedades.\n",
        "\n",
        "...\n",
        "\n",
        "Obs: Vamos supor que sempre haja uma quantidade `par` de doces na mochila.\n",
        "\n",
        "\n",
        "\n",
        "\n",
        "## Tarefa\n",
        "\n",
        "Construa uma lógica para a função `DocesPeter()` onde ela receba como parâmetro uma `lista` contendo os doces e seus tipos, e devolva o valor da quantidade máxima de doces que Peter pode consumir (a função deve devolver um `int`).\n",
        "\n",
        "Não se assuste caso você não esteja acostumado a ver a função assim:\n",
        "\n",
        "```python\n",
        "\n",
        "def DocesPeter(lista_tipos_doces) -> int:\n",
        "\n",
        "```\n",
        "\n",
        "Isso só significa que a função vai receber como parâmetro essa `lista_tipos_doces` e devolverá um número do tipo `int`.\n",
        "\n",
        "Aqui a ideia é deixar a criatividade fluir.\n",
        "\n",
        "É um tipo de problema que não tem 1 tipo de solução, mas lembre que no primeiro CHALLENGE havia uma solução que torna mais legível e simples o código.\n",
        "\n",
        "Não ligue para o tempo que vai levar, apenas se concentre em achar uma solução e verificar suas heurísticas(lógica).\n",
        "\n",
        "Esse é um problema que não precisa de nenhuma biblioteca pronta! Basta colocar a criatividade pra jogo.\n",
        "\n"
      ],
      "metadata": {
        "id": "OJLhU-ksVVRU"
      }
    },
    {
      "cell_type": "code",
      "execution_count": 2,
      "metadata": {
        "id": "dZGNQ9VmU0H5"
      },
      "outputs": [],
      "source": [
        "def DocesPeter(lista_tipos_doces) -> int:\n",
        "  # definição de uma array que vai conter toda a variedade de doces da lista.\n",
        "  variedades = []\n",
        "\n",
        "  #Loop dentro da lista de variedades criando uma variável.\n",
        "  for doce in lista_tipos_doces:\n",
        "      if doce not in variedades:\n",
        "        variedades.append(doce)\n",
        "\n",
        "  # Fora do loop, implementamos um teste de total das variáveis contra o total\n",
        "  # permitido pro Peter comer, utilizando a buit-in function 'len'.\n",
        "  if len(variedades) > len(lista_tipos_doces) / 2:\n",
        "    return int(len(lista_tipos_doces) / 2)\n",
        "  else:\n",
        "    return int(len(variedades))"
      ]
    },
    {
      "cell_type": "code",
      "source": [
        "doces_exemplo_1 = [1,1,2,3,4,5,5,5]\n",
        "doces_exemplo_2 = [1,1,2,3]\n",
        "doces_exemplo_3 = [1,1,2,3,2,1,3,2]\n",
        "exemplo_hipotetico_1 = [1,1,1,2,2,3,3,3,4,4,5,5,5,5]\n",
        "exemplo_hipotetico_2 = [1,1,2,2,3,3,4,4,5,6,7,8,8,9]\n",
        "\n",
        "print(DocesPeter(doces_exemplo_1))\n",
        "print(DocesPeter(doces_exemplo_2))\n",
        "print(DocesPeter(doces_exemplo_3))\n",
        "print(DocesPeter(exemplo_hipotetico_1))\n",
        "print(DocesPeter(exemplo_hipotetico_2))"
      ],
      "metadata": {
        "colab": {
          "base_uri": "https://localhost:8080/"
        },
        "id": "i5lv2Wjsc2Or",
        "outputId": "aa49ad6f-8de5-4625-eb2d-99df3086e19c"
      },
      "execution_count": 4,
      "outputs": [
        {
          "output_type": "stream",
          "name": "stdout",
          "text": [
            "4\n",
            "2\n",
            "3\n",
            "5\n",
            "7\n"
          ]
        }
      ]
    }
  ]
}