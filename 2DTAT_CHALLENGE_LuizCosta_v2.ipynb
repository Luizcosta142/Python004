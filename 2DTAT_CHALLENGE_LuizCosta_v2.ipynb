{
  "nbformat": 4,
  "nbformat_minor": 0,
  "metadata": {
    "colab": {
      "provenance": [],
      "include_colab_link": true
    },
    "kernelspec": {
      "name": "python3",
      "display_name": "Python 3"
    },
    "language_info": {
      "name": "python"
    }
  },
  "cells": [
    {
      "cell_type": "markdown",
      "metadata": {
        "id": "view-in-github",
        "colab_type": "text"
      },
      "source": [
        "<a href=\"https://colab.research.google.com/github/Luizcosta142/Python004/blob/main/2DTAT_CHALLENGE_LuizCosta_v2.ipynb\" target=\"_parent\"><img src=\"https://colab.research.google.com/assets/colab-badge.svg\" alt=\"Open In Colab\"/></a>"
      ]
    },
    {
      "cell_type": "markdown",
      "source": [
        "# DATA CHALLENGE\n",
        "\n",
        "---\n",
        "\n",
        "Bem vindos ao primeiro DATA CHALLENGE!\n",
        "\n",
        "Aqui traremos alguns problemas que envolvam python, dados, aprendizado de máquina e afins. O intuito é que vocês tentem ao máximo praticar com esses desafios que trarão por ventura, alguns tópicos interessantes."
      ],
      "metadata": {
        "id": "NtRYX4I1ucvR"
      }
    },
    {
      "cell_type": "markdown",
      "source": [
        "# CHALLENGE: Funções\n",
        "\n",
        "Um dia extra é adicionado ao calendário quase a cada quatro anos como 29 de fevereiro, e o dia é chamado de dia bissexto . Ele corrige o calendário pelo fato de que nosso planeta leva aproximadamente 365,25 dias para orbitar o sol. Um ano bissexto contém um dia bissexto.\n",
        "\n",
        "No calendário gregoriano, três condições são usadas para identificar anos bissextos:\n",
        "\n",
        "- O ano que pode ser dividido por 4, é um ano bissexto, a menos que:\n",
        "  - O ano pode ser dividido por 100, então NÃO é um ano bissexto, a menos que:\n",
        "    - O ano também é divisível por 400. Então é um ano bissexto.\n",
        "\n",
        "Fonte: https://www.timeanddate.com/date/leapyear.html\n",
        "\n",
        "Isso significa que no calendário gregoriano, os anos 2000 e 2400 são bissextos, enquanto 1800, 1900, 2100, 2200, 2300 e 2500 NÃO são anos bissextos.\n",
        "\n",
        "\n",
        "## Tarefa\n",
        "\n",
        "Dado um ano, determine se é um ano bissexto. Se for um ano bissexto, retorne o  `True`, caso contrário, retorne `False`.\n",
        "\n",
        "Observe que o stub de código fornecido lê a entrada e passa argumentos para a função `is_leap`. Só é necessário completar a função `is_leap`.\n",
        "\n",
        "\n"
      ],
      "metadata": {
        "id": "xizBCUKsu2Cf"
      }
    },
    {
      "cell_type": "markdown",
      "source": [
        "# Correção\n",
        "\n",
        "Em correção da atividade pelo coordenador do curso, foi observado que o problema poderia ser resolvido com apenas um bloco \"if\", utilizando os operadores \"or\" e \"and\".\n",
        "\n",
        "Segue abaixo segunda tentativa de resolução considerando os pontos da correção."
      ],
      "metadata": {
        "id": "IKhZVzKHEGjc"
      }
    },
    {
      "cell_type": "code",
      "execution_count": null,
      "metadata": {
        "id": "c32TI3ATuUpE"
      },
      "outputs": [],
      "source": [
        "def is_leap(year):\n",
        "    leap = False\n",
        "\n",
        "    if (year % 4 == 0 and year % 100 != 0) or (year % 400 == 0):\n",
        "        leap = True\n",
        "\n",
        "    return leap\n",
        "\n",
        "year = int(input())\n",
        "print(is_leap(year))"
      ]
    },
    {
      "cell_type": "markdown",
      "source": [],
      "metadata": {
        "id": "ClsFw9oIDKcG"
      }
    }
  ]
}